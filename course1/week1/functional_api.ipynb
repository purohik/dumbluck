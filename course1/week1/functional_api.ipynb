{
 "cells": [
  {
   "cell_type": "code",
   "execution_count": 11,
   "metadata": {},
   "outputs": [],
   "source": [
    "import tensorflow as tf\n",
    "import matplotlib.pyplot as plt"
   ]
  },
  {
   "cell_type": "code",
   "execution_count": 12,
   "metadata": {},
   "outputs": [],
   "source": [
    "# Creating model using functional API\n",
    "# Input -> Layers -> Defining the model\n",
    "\n",
    "input = tf.keras.layers.Input(shape=(28, 28))\n",
    "\n",
    "x = tf.keras.layers.Flatten()(input)\n",
    "x = tf.keras.layers.Dense(128, activation='relu')(x)\n",
    "predictions = tf.keras.layers.Dense(10, activation='softmax')(x)\n",
    "\n",
    "model = tf.keras.models.Model(inputs=input, outputs=predictions)"
   ]
  },
  {
   "cell_type": "code",
   "execution_count": 13,
   "metadata": {},
   "outputs": [
    {
     "name": "stdout",
     "output_type": "stream",
     "text": [
      "313/313 [==============================] - 0s 1ms/step - loss: 2.4083 - accuracy: 0.1251\n"
     ]
    },
    {
     "data": {
      "text/plain": [
       "[2.408259153366089, 0.1251000016927719]"
      ]
     },
     "execution_count": 13,
     "metadata": {},
     "output_type": "execute_result"
    }
   ],
   "source": [
    "mnist = tf.keras.datasets.fashion_mnist\n",
    "(training_images, training_labels), (test_images, test_labels) = mnist.load_data()\n",
    "training_images = training_images / 255.0\n",
    "test_images = test_images / 255.0\n",
    "\n",
    "# configure, train, and evaluate the model\n",
    "model.compile(optimizer=tf.optimizers.Adam(),\n",
    "              loss='sparse_categorical_crossentropy',\n",
    "              metrics=['accuracy'])\n",
    "# model.fit(training_images, training_labels, epochs=5)\n",
    "model.evaluate(test_images, test_labels)"
   ]
  },
  {
   "cell_type": "markdown",
   "metadata": {},
   "source": [
    "#### Learn more about inception models which are branched: [Inception models](https://towardsdatascience.com/a-simple-guide-to-the-versions-of-the-inception-network-7fc52b863202)\n",
    "\n",
    "Solving for enegry efficiency dataset."
   ]
  },
  {
   "cell_type": "code",
   "execution_count": 14,
   "metadata": {},
   "outputs": [
    {
     "name": "stdout",
     "output_type": "stream",
     "text": [
      "Model: \"model_4\"\n",
      "__________________________________________________________________________________________________\n",
      " Layer (type)                Output Shape                 Param #   Connected to                  \n",
      "==================================================================================================\n",
      " input_7 (InputLayer)        [(None, 60000)]              0         []                            \n",
      "                                                                                                  \n",
      " dense_12 (Dense)            (None, 128)                  7680128   ['input_7[0][0]']             \n",
      "                                                                                                  \n",
      " dense_13 (Dense)            (None, 128)                  16512     ['dense_12[0][0]']            \n",
      "                                                                                                  \n",
      " dense_14 (Dense)            (None, 64)                   8256      ['dense_13[0][0]']            \n",
      "                                                                                                  \n",
      " y1_output (Dense)           (None, 1)                    129       ['dense_13[0][0]']            \n",
      "                                                                                                  \n",
      " y2_output (Dense)           (None, 1)                    65        ['dense_14[0][0]']            \n",
      "                                                                                                  \n",
      "==================================================================================================\n",
      "Total params: 7705090 (29.39 MB)\n",
      "Trainable params: 7705090 (29.39 MB)\n",
      "Non-trainable params: 0 (0.00 Byte)\n",
      "__________________________________________________________________________________________________\n",
      "None\n",
      "You must install pydot (`pip install pydot`) and install graphviz (see instructions at https://graphviz.gitlab.io/download/) for plot_model to work.\n"
     ]
    }
   ],
   "source": [
    "# Branched models (continue at creating a multi-output architecture)\n",
    "input_layer = tf.keras.layers.Input(shape=(len(training_images)))\n",
    "\n",
    "first_dense = tf.keras.layers.Dense(128, activation='relu')(input_layer)\n",
    "second_dense = tf.keras.layers.Dense(128, activation='relu')(first_dense)\n",
    "third_dense = tf.keras.layers.Dense(64, activation='relu')(second_dense)\n",
    "\n",
    "y1_output = tf.keras.layers.Dense(1, name='y1_output')(second_dense)\n",
    "y2_output = tf.keras.layers.Dense(1, name='y2_output')(third_dense)\n",
    "\n",
    "\n",
    "model = tf.keras.models.Model(inputs = input_layer, outputs = [y1_output, y2_output])\n",
    "\n",
    "print(model.summary())\n",
    "tf.keras.utils.plot_model(model, show_shapes=True)\n"
   ]
  }
 ],
 "metadata": {
  "kernelspec": {
   "display_name": "venv",
   "language": "python",
   "name": "python3"
  },
  "language_info": {
   "codemirror_mode": {
    "name": "ipython",
    "version": 3
   },
   "file_extension": ".py",
   "mimetype": "text/x-python",
   "name": "python",
   "nbconvert_exporter": "python",
   "pygments_lexer": "ipython3",
   "version": "3.10.12"
  }
 },
 "nbformat": 4,
 "nbformat_minor": 2
}
