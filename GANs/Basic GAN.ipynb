{
  "nbformat": 4,
  "nbformat_minor": 0,
  "metadata": {
    "colab": {
      "private_outputs": true,
      "provenance": [],
      "gpuType": "T4",
      "authorship_tag": "ABX9TyPtccJ0SbCos4UKfjrrnVwP",
      "include_colab_link": true
    },
    "kernelspec": {
      "name": "python3",
      "display_name": "Python 3"
    },
    "language_info": {
      "name": "python"
    },
    "accelerator": "GPU",
    "gpuClass": "standard"
  },
  "cells": [
    {
      "cell_type": "markdown",
      "metadata": {
        "id": "view-in-github",
        "colab_type": "text"
      },
      "source": [
        "<a href=\"https://colab.research.google.com/github/purohik/notebooks/blob/main/GANs/Basic%20GAN.ipynb\" target=\"_parent\"><img src=\"https://colab.research.google.com/assets/colab-badge.svg\" alt=\"Open In Colab\"/></a>"
      ]
    },
    {
      "cell_type": "markdown",
      "source": [
        "# Initial setup"
      ],
      "metadata": {
        "id": "gRyOcy1iJswL"
      }
    },
    {
      "cell_type": "code",
      "execution_count": null,
      "metadata": {
        "id": "iO6N4RVXEpRN"
      },
      "outputs": [],
      "source": [
        "import tensorflow.compat.v1 as tf\n",
        "!pip install tensorflow-gan\n",
        "import tensorflow_gan as tfgan\n",
        "import tensorflow_datasets as tfds\n",
        "import matplotlib.pyplot as plt\n",
        "import numpy as np\n",
        "\n",
        "%matplotlib inline\n",
        "tf.logging.set_verbosity(tf.logging.ERROR)"
      ]
    },
    {
      "cell_type": "markdown",
      "source": [
        "# Input pipeline"
      ],
      "metadata": {
        "id": "5xO4TDH9Jm4M"
      }
    },
    {
      "cell_type": "code",
      "source": [
        "def input_fn(mode, params):\n",
        "    assert 'batch_size' in params\n",
        "    assert 'noise_dims' in params\n",
        "    bs = params['batch_size']\n",
        "    nd = params['noise_dims']\n",
        "    split = 'train' if mode == tf.estimator.ModeKeys.TRAIN else 'test'\n",
        "    shuffle = (mode == tf.estimator.ModeKeys.TRAIN)\n",
        "    just_noise = (mode == tf.estimator.ModeKeys.PREDICT)\n",
        "\n",
        "    noise_ds = (tf.data.Dataset.from_tensors(0).repeat().map(\n",
        "        lambda _: tf.random.normal([bs, nd])\n",
        "    ))\n",
        "\n",
        "    if just_noise:\n",
        "        return noise_ds\n",
        "    \n",
        "    def _preprocess(element):\n",
        "        images = (tf.cast(element['image'], tf.float32) - 127.5) / 127.5\n",
        "        return images\n",
        "    \n",
        "    images_ds = (tfds.load('mnist:3.*.*', split=split)\n",
        "                .map(_preprocess)\n",
        "                .cache()\n",
        "                .repeat())\n",
        "    \n",
        "    if shuffle:\n",
        "        images_ds = images_ds.shuffle(\n",
        "            buffer_size=10000, reshuffle_each_iteration=True\n",
        "        )\n",
        "    images_ds = (images_ds.batch(bs, drop_remainder=True).prefetch(tf.data.experimental.AUTOTUNE))\n",
        "\n",
        "    return tf.data.Dataset.zip((noise_ds, images_ds))"
      ],
      "metadata": {
        "id": "xzNe__6nJqk8"
      },
      "execution_count": null,
      "outputs": []
    },
    {
      "cell_type": "markdown",
      "source": [
        "# Download the data and sanity check the inputs"
      ],
      "metadata": {
        "id": "cGRAwWykLh2S"
      }
    },
    {
      "cell_type": "code",
      "source": [
        "params = {'batch_size': 100, 'noise_dims': 64}\n",
        "with tf.Graph().as_default():\n",
        "    ds = input_fn(tf.estimator.ModeKeys.TRAIN, params)\n",
        "    numpy_imgs = next(iter(tfds.as_numpy(ds)))[1]\n",
        "\n",
        "img_grid = tfgan.eval.python_image_grid(numpy_imgs, grid_shape=(10, 10))\n",
        "plt.axis('off')\n",
        "plt.imshow(np.squeeze(img_grid))\n",
        "plt.show()"
      ],
      "metadata": {
        "id": "yiNXmpR9Lk5i"
      },
      "execution_count": null,
      "outputs": []
    }
  ]
}